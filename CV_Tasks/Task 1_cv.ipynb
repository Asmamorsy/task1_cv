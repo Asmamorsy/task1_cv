{
 "cells": [
  {
   "cell_type": "code",
   "execution_count": 1,
   "id": "d0ece9f7",
   "metadata": {},
   "outputs": [],
   "source": [
    "import cv2\n",
    "import numpy as np \n",
    "import matplotlib.pyplot as plt"
   ]
  },
  {
   "cell_type": "code",
   "execution_count": 3,
   "id": "0dd4eb6a",
   "metadata": {},
   "outputs": [],
   "source": [
    "Video = cv2.VideoCapture(0)\n",
    "while True :\n",
    "     Succes , Frame =Video.read()\n",
    "     Resized_frame = cv2.resize(Frame , (500 , 500))\n",
    "\n",
    "     cv2.imshow(\"Frame\" , Resized_frame) \n",
    "     if cv2.waitKey(15) == ord('q'):\n",
    "        break\n",
    "\n",
    "\n",
    "cv2.destroyAllWindows()"
   ]
  },
  {
   "cell_type": "markdown",
   "id": "8ee12631",
   "metadata": {},
   "source": [
    "Saving an image"
   ]
  },
  {
   "cell_type": "code",
   "execution_count": 3,
   "id": "a054465d",
   "metadata": {},
   "outputs": [],
   "source": [
    "image=cv2.imread(\"cat.jpg\")\n",
    "cv2.imshow(\"img\",image)\n",
    "resized_image=cv2.resize(image,(700,700))\n",
    "cv2.imshow(\"resized_image\",resized_image)\n",
    "cv2.imwrite('resized_cat.jpg',resized_image)\n",
    "while True:\n",
    "    if cv2.waitKey(0)==ord('q'):\n",
    "        break\n",
    "cv2.destroyAllWindows()    "
   ]
  },
  {
   "cell_type": "code",
   "execution_count": null,
   "id": "a48112d2",
   "metadata": {},
   "outputs": [],
   "source": []
  }
 ],
 "metadata": {
  "kernelspec": {
   "display_name": "Python 3 (ipykernel)",
   "language": "python",
   "name": "python3"
  },
  "language_info": {
   "codemirror_mode": {
    "name": "ipython",
    "version": 3
   },
   "file_extension": ".py",
   "mimetype": "text/x-python",
   "name": "python",
   "nbconvert_exporter": "python",
   "pygments_lexer": "ipython3",
   "version": "3.10.1"
  }
 },
 "nbformat": 4,
 "nbformat_minor": 5
}
